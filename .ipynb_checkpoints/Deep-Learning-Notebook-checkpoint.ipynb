{
 "cells": [
  {
   "cell_type": "markdown",
   "id": "a4420cdd-8b8b-4b8c-a377-b343059d5327",
   "metadata": {},
   "source": [
    "![dp](https://www.pewtrusts.org/-/media/post-launch-images/trend-magazine/spring-2020/brain_dots_gif.gif?h=675&w=1200&la=en&hash=B7CF4A90A221D1EB924E292833AFB9BC)"
   ]
  },
  {
   "cell_type": "code",
   "execution_count": null,
   "id": "1886170a-bd59-409a-8bb8-7d4a7b893d3f",
   "metadata": {},
   "outputs": [],
   "source": []
  }
 ],
 "metadata": {
  "kernelspec": {
   "display_name": "Python 3 (ipykernel)",
   "language": "python",
   "name": "python3"
  },
  "language_info": {
   "codemirror_mode": {
    "name": "ipython",
    "version": 3
   },
   "file_extension": ".py",
   "mimetype": "text/x-python",
   "name": "python",
   "nbconvert_exporter": "python",
   "pygments_lexer": "ipython3",
   "version": "3.11.2"
  }
 },
 "nbformat": 4,
 "nbformat_minor": 5
}
